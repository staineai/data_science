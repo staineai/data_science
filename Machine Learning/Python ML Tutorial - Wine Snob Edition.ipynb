{
 "cells": [
  {
   "cell_type": "markdown",
   "metadata": {},
   "source": [
    "## Introduction: \n",
    "In order to solidify my understanding of Scikit-Learn, I worked through a project provided by https://elitedatascience.com/python-machine-learning-tutorial-scikit-learn. The purpose of this project is to predict wine quality based on traits of the wine, like acidity and residual sugar. Data for this project can be found at: http://mlr.cs.umass.edu/ml/machine-learning-databases/wine-quality/winequality-red.csv"
   ]
  },
  {
   "cell_type": "markdown",
   "metadata": {},
   "source": [
    "### Set Up Environment and Data"
   ]
  },
  {
   "cell_type": "code",
   "execution_count": 1,
   "metadata": {
    "collapsed": true
   },
   "outputs": [],
   "source": [
    "#Import packages and data\n",
    "import numpy as np\n",
    "import pandas as pd\n",
    "import matplotlib.pyplot as plt\n",
    "\n",
    "from sklearn.model_selection import train_test_split\n",
    "from sklearn import preprocessing\n",
    "from sklearn.ensemble import RandomForestRegressor\n",
    "from sklearn.pipeline import make_pipeline\n",
    "from sklearn.model_selection import GridSearchCV\n",
    "from sklearn.metrics import mean_squared_error, r2_score\n",
    "from sklearn.externals import joblib\n",
    "\n",
    "dataset_url = 'http://mlr.cs.umass.edu/ml/machine-learning-databases/wine-quality/winequality-red.csv'\n",
    "data = pd.read_csv(dataset_url, sep=';')"
   ]
  },
  {
   "cell_type": "markdown",
   "metadata": {},
   "source": [
    "### Exploratory Data Analysis"
   ]
  },
  {
   "cell_type": "code",
   "execution_count": 2,
   "metadata": {},
   "outputs": [
    {
     "data": {
      "text/html": [
       "<div>\n",
       "<style>\n",
       "    .dataframe thead tr:only-child th {\n",
       "        text-align: right;\n",
       "    }\n",
       "\n",
       "    .dataframe thead th {\n",
       "        text-align: left;\n",
       "    }\n",
       "\n",
       "    .dataframe tbody tr th {\n",
       "        vertical-align: top;\n",
       "    }\n",
       "</style>\n",
       "<table border=\"1\" class=\"dataframe\">\n",
       "  <thead>\n",
       "    <tr style=\"text-align: right;\">\n",
       "      <th></th>\n",
       "      <th>fixed acidity</th>\n",
       "      <th>volatile acidity</th>\n",
       "      <th>citric acid</th>\n",
       "      <th>residual sugar</th>\n",
       "      <th>chlorides</th>\n",
       "      <th>free sulfur dioxide</th>\n",
       "      <th>total sulfur dioxide</th>\n",
       "      <th>density</th>\n",
       "      <th>pH</th>\n",
       "      <th>sulphates</th>\n",
       "      <th>alcohol</th>\n",
       "      <th>quality</th>\n",
       "    </tr>\n",
       "  </thead>\n",
       "  <tbody>\n",
       "    <tr>\n",
       "      <th>0</th>\n",
       "      <td>7.4</td>\n",
       "      <td>0.70</td>\n",
       "      <td>0.00</td>\n",
       "      <td>1.9</td>\n",
       "      <td>0.076</td>\n",
       "      <td>11.0</td>\n",
       "      <td>34.0</td>\n",
       "      <td>0.9978</td>\n",
       "      <td>3.51</td>\n",
       "      <td>0.56</td>\n",
       "      <td>9.4</td>\n",
       "      <td>5</td>\n",
       "    </tr>\n",
       "    <tr>\n",
       "      <th>1</th>\n",
       "      <td>7.8</td>\n",
       "      <td>0.88</td>\n",
       "      <td>0.00</td>\n",
       "      <td>2.6</td>\n",
       "      <td>0.098</td>\n",
       "      <td>25.0</td>\n",
       "      <td>67.0</td>\n",
       "      <td>0.9968</td>\n",
       "      <td>3.20</td>\n",
       "      <td>0.68</td>\n",
       "      <td>9.8</td>\n",
       "      <td>5</td>\n",
       "    </tr>\n",
       "    <tr>\n",
       "      <th>2</th>\n",
       "      <td>7.8</td>\n",
       "      <td>0.76</td>\n",
       "      <td>0.04</td>\n",
       "      <td>2.3</td>\n",
       "      <td>0.092</td>\n",
       "      <td>15.0</td>\n",
       "      <td>54.0</td>\n",
       "      <td>0.9970</td>\n",
       "      <td>3.26</td>\n",
       "      <td>0.65</td>\n",
       "      <td>9.8</td>\n",
       "      <td>5</td>\n",
       "    </tr>\n",
       "    <tr>\n",
       "      <th>3</th>\n",
       "      <td>11.2</td>\n",
       "      <td>0.28</td>\n",
       "      <td>0.56</td>\n",
       "      <td>1.9</td>\n",
       "      <td>0.075</td>\n",
       "      <td>17.0</td>\n",
       "      <td>60.0</td>\n",
       "      <td>0.9980</td>\n",
       "      <td>3.16</td>\n",
       "      <td>0.58</td>\n",
       "      <td>9.8</td>\n",
       "      <td>6</td>\n",
       "    </tr>\n",
       "    <tr>\n",
       "      <th>4</th>\n",
       "      <td>7.4</td>\n",
       "      <td>0.70</td>\n",
       "      <td>0.00</td>\n",
       "      <td>1.9</td>\n",
       "      <td>0.076</td>\n",
       "      <td>11.0</td>\n",
       "      <td>34.0</td>\n",
       "      <td>0.9978</td>\n",
       "      <td>3.51</td>\n",
       "      <td>0.56</td>\n",
       "      <td>9.4</td>\n",
       "      <td>5</td>\n",
       "    </tr>\n",
       "  </tbody>\n",
       "</table>\n",
       "</div>"
      ],
      "text/plain": [
       "   fixed acidity  volatile acidity  citric acid  residual sugar  chlorides  \\\n",
       "0            7.4              0.70         0.00             1.9      0.076   \n",
       "1            7.8              0.88         0.00             2.6      0.098   \n",
       "2            7.8              0.76         0.04             2.3      0.092   \n",
       "3           11.2              0.28         0.56             1.9      0.075   \n",
       "4            7.4              0.70         0.00             1.9      0.076   \n",
       "\n",
       "   free sulfur dioxide  total sulfur dioxide  density    pH  sulphates  \\\n",
       "0                 11.0                  34.0   0.9978  3.51       0.56   \n",
       "1                 25.0                  67.0   0.9968  3.20       0.68   \n",
       "2                 15.0                  54.0   0.9970  3.26       0.65   \n",
       "3                 17.0                  60.0   0.9980  3.16       0.58   \n",
       "4                 11.0                  34.0   0.9978  3.51       0.56   \n",
       "\n",
       "   alcohol  quality  \n",
       "0      9.4        5  \n",
       "1      9.8        5  \n",
       "2      9.8        5  \n",
       "3      9.8        6  \n",
       "4      9.4        5  "
      ]
     },
     "execution_count": 2,
     "metadata": {},
     "output_type": "execute_result"
    }
   ],
   "source": [
    "#Check data\n",
    "data.head()"
   ]
  },
  {
   "cell_type": "code",
   "execution_count": 3,
   "metadata": {},
   "outputs": [
    {
     "name": "stdout",
     "output_type": "stream",
     "text": [
      "(1599, 12)\n"
     ]
    }
   ],
   "source": [
    "print (data.shape)"
   ]
  },
  {
   "cell_type": "code",
   "execution_count": 4,
   "metadata": {},
   "outputs": [
    {
     "name": "stdout",
     "output_type": "stream",
     "text": [
      "       fixed acidity  volatile acidity  citric acid  residual sugar  \\\n",
      "count    1599.000000       1599.000000  1599.000000     1599.000000   \n",
      "mean        8.319637          0.527821     0.270976        2.538806   \n",
      "std         1.741096          0.179060     0.194801        1.409928   \n",
      "min         4.600000          0.120000     0.000000        0.900000   \n",
      "25%         7.100000          0.390000     0.090000        1.900000   \n",
      "50%         7.900000          0.520000     0.260000        2.200000   \n",
      "75%         9.200000          0.640000     0.420000        2.600000   \n",
      "max        15.900000          1.580000     1.000000       15.500000   \n",
      "\n",
      "         chlorides  free sulfur dioxide  total sulfur dioxide      density  \\\n",
      "count  1599.000000          1599.000000           1599.000000  1599.000000   \n",
      "mean      0.087467            15.874922             46.467792     0.996747   \n",
      "std       0.047065            10.460157             32.895324     0.001887   \n",
      "min       0.012000             1.000000              6.000000     0.990070   \n",
      "25%       0.070000             7.000000             22.000000     0.995600   \n",
      "50%       0.079000            14.000000             38.000000     0.996750   \n",
      "75%       0.090000            21.000000             62.000000     0.997835   \n",
      "max       0.611000            72.000000            289.000000     1.003690   \n",
      "\n",
      "                pH    sulphates      alcohol      quality  \n",
      "count  1599.000000  1599.000000  1599.000000  1599.000000  \n",
      "mean      3.311113     0.658149    10.422983     5.636023  \n",
      "std       0.154386     0.169507     1.065668     0.807569  \n",
      "min       2.740000     0.330000     8.400000     3.000000  \n",
      "25%       3.210000     0.550000     9.500000     5.000000  \n",
      "50%       3.310000     0.620000    10.200000     6.000000  \n",
      "75%       3.400000     0.730000    11.100000     6.000000  \n",
      "max       4.010000     2.000000    14.900000     8.000000  \n"
     ]
    }
   ],
   "source": [
    "print (data.describe())"
   ]
  },
  {
   "cell_type": "code",
   "execution_count": 5,
   "metadata": {},
   "outputs": [
    {
     "data": {
      "image/png": "[encoded data removed]",
      "text/plain": [
       "<matplotlib.figure.Figure at 0x1feb5c35160>"
      ]
     },
     "metadata": {},
     "output_type": "display_data"
    },
    {
     "data": {
      "image/png": "[encoded data removed]",
      "text/plain": [
       "<matplotlib.figure.Figure at 0x1feb71a9c50>"
      ]
     },
     "metadata": {},
     "output_type": "display_data"
    },
    {
     "data": {
      "image/png": "[encoded data removed]",
      "text/plain": [
       "<matplotlib.figure.Figure at 0x1feb735bb70>"
      ]
     },
     "metadata": {},
     "output_type": "display_data"
    }
   ],
   "source": [
    "#Plot traits vs. quality\n",
    "plt.figure(1)\n",
    "plt.subplot(221)\n",
    "plt.plot(data['quality'], data['fixed acidity'], 'ro')\n",
    "plt.xlabel('quality')\n",
    "plt.ylabel('fixed acidity')\n",
    "\n",
    "plt.subplot(222)\n",
    "plt.plot(data['quality'], data['volatile acidity'], 'ro')\n",
    "plt.xlabel('quality')\n",
    "plt.ylabel('volatile acidity')\n",
    "\n",
    "plt.subplot(223)\n",
    "plt.plot(data['quality'], data['citric acid'], 'ro')\n",
    "plt.xlabel('quality')\n",
    "plt.ylabel('citric acid')\n",
    "\n",
    "plt.subplot(224)\n",
    "plt.plot(data['quality'], data['residual sugar'], 'ro')\n",
    "plt.xlabel('quality')\n",
    "plt.ylabel('residual sugar')\n",
    "\n",
    "plt.figure(2)\n",
    "plt.subplot(221)\n",
    "plt.plot(data['quality'], data['chlorides'], 'ro')\n",
    "plt.xlabel('quality')\n",
    "plt.ylabel('fixed acidity')\n",
    "\n",
    "plt.subplot(222)\n",
    "plt.plot(data['quality'], data['free sulfur dioxide'], 'ro')\n",
    "plt.xlabel('quality')\n",
    "plt.ylabel('volatile acidity')\n",
    "\n",
    "plt.subplot(223)\n",
    "plt.plot(data['quality'], data['total sulfur dioxide'], 'ro')\n",
    "plt.xlabel('quality')\n",
    "plt.ylabel('citric acid')\n",
    "\n",
    "plt.subplot(224)\n",
    "plt.plot(data['quality'], data['density'], 'ro')\n",
    "plt.xlabel('quality')\n",
    "plt.ylabel('residual sugar')\n",
    "\n",
    "plt.figure(3)\n",
    "plt.subplot(221)\n",
    "plt.plot(data['quality'], data['pH'], 'ro')\n",
    "plt.xlabel('quality')\n",
    "plt.ylabel('fixed acidity')\n",
    "\n",
    "plt.subplot(222)\n",
    "plt.plot(data['quality'], data['sulphates'], 'ro')\n",
    "plt.xlabel('quality')\n",
    "plt.ylabel('volatile acidity')\n",
    "\n",
    "plt.subplot(223)\n",
    "plt.plot(data['quality'], data['alcohol'], 'ro')\n",
    "plt.xlabel('quality')\n",
    "plt.ylabel('citric acid')\n",
    "\n",
    "plt.show()"
   ]
  },
  {
   "cell_type": "markdown",
   "metadata": {},
   "source": [
    "## Model Set Up"
   ]
  },
  {
   "cell_type": "markdown",
   "metadata": {},
   "source": [
    "### Separate into training and testing data"
   ]
  },
  {
   "cell_type": "code",
   "execution_count": 6,
   "metadata": {
    "collapsed": true
   },
   "outputs": [],
   "source": [
    "#separate our target (y) features from our input (X) features\n",
    "y = data.quality\n",
    "X = data.drop('quality', axis=1)\n",
    "\n",
    "#split data into testing and training sets \n",
    "X_train, X_test, y_train, y_test = train_test_split(X, y, \n",
    "                                                    test_size=0.2, \n",
    "                                                    random_state=123, \n",
    "                                                    stratify=y)"
   ]
  },
  {
   "cell_type": "markdown",
   "metadata": {},
   "source": [
    "### Transform data using tranformer API"
   ]
  },
  {
   "cell_type": "code",
   "execution_count": 7,
   "metadata": {},
   "outputs": [],
   "source": [
    "pipeline = make_pipeline(preprocessing.StandardScaler(), \n",
    "                         RandomForestRegressor(n_estimators=100))"
   ]
  },
  {
   "cell_type": "markdown",
   "metadata": {},
   "source": [
    "## Cross Validation"
   ]
  },
  {
   "cell_type": "markdown",
   "metadata": {},
   "source": [
    "### Tune the model through cross validation"
   ]
  },
  {
   "cell_type": "code",
   "execution_count": 8,
   "metadata": {
    "collapsed": true
   },
   "outputs": [],
   "source": [
    "#Declare hyperparameters to tune through cross validation\n",
    "hyperparameters = { 'randomforestregressor__max_features' : ['auto', 'sqrt', 'log2'],\n",
    "                  'randomforestregressor__max_depth': [None, 5, 3, 1]}"
   ]
  },
  {
   "cell_type": "code",
   "execution_count": 9,
   "metadata": {},
   "outputs": [
    {
     "data": {
      "text/plain": [
       "GridSearchCV(cv=10, error_score='raise',\n",
       "       estimator=Pipeline(steps=[('standardscaler', StandardScaler(copy=True, with_mean=True, with_std=True)), ('randomforestregressor', RandomForestRegressor(bootstrap=True, criterion='mse', max_depth=None,\n",
       "           max_features='auto', max_leaf_nodes=None,\n",
       "           min_impurity_split=1e-07, min_samples_leaf=1,\n",
       "           min_samples_split=2, min_weight_fraction_leaf=0.0,\n",
       "           n_estimators=100, n_jobs=1, oob_score=False, random_state=None,\n",
       "           verbose=0, warm_start=False))]),\n",
       "       fit_params={}, iid=True, n_jobs=1,\n",
       "       param_grid={'randomforestregressor__max_features': ['auto', 'sqrt', 'log2'], 'randomforestregressor__max_depth': [None, 5, 3, 1]},\n",
       "       pre_dispatch='2*n_jobs', refit=True, return_train_score=True,\n",
       "       scoring=None, verbose=0)"
      ]
     },
     "execution_count": 9,
     "metadata": {},
     "output_type": "execute_result"
    }
   ],
   "source": [
    "#sklearn cross-validation with pipeline\n",
    "clf = GridSearchCV(pipeline, hyperparameters, cv=10)\n",
    " \n",
    "# Fit and tune model\n",
    "clf.fit(X_train, y_train)"
   ]
  },
  {
   "cell_type": "code",
   "execution_count": 10,
   "metadata": {},
   "outputs": [
    {
     "name": "stdout",
     "output_type": "stream",
     "text": [
      "{'randomforestregressor__max_depth': None, 'randomforestregressor__max_features': 'log2'}\n"
     ]
    }
   ],
   "source": [
    "#print the best set of parameters\n",
    "print (clf.best_params_)"
   ]
  },
  {
   "cell_type": "markdown",
   "metadata": {},
   "source": [
    "## Predict quality scores using new model"
   ]
  },
  {
   "cell_type": "code",
   "execution_count": 13,
   "metadata": {},
   "outputs": [
    {
     "name": "stdout",
     "output_type": "stream",
     "text": [
      "0.474326533083\n",
      "0.339203125\n"
     ]
    }
   ],
   "source": [
    "y_pred = clf.predict(X_test)\n",
    "\n",
    "print (r2_score(y_test, y_pred))\n",
    "print (mean_squared_error(y_test, y_pred))"
   ]
  },
  {
   "cell_type": "code",
   "execution_count": 14,
   "metadata": {},
   "outputs": [
    {
     "data": {
      "text/plain": [
       "array([ 6.54,  5.7 ,  5.  ,  5.47,  6.32,  5.55,  4.99,  4.82,  5.01,\n",
       "        5.96,  5.32,  5.75,  5.87,  5.13,  5.78,  5.63,  6.67,  5.82,\n",
       "        5.65,  6.96,  5.59,  5.63,  5.05,  6.07,  6.  ,  5.03,  5.44,\n",
       "        5.2 ,  5.84,  5.94,  5.91,  6.49,  5.98,  5.1 ,  5.01,  5.93,\n",
       "        5.04,  6.12,  4.94,  5.85,  5.02,  5.99,  6.65,  5.07,  6.18,\n",
       "        5.36,  5.53,  5.57,  5.11,  6.48,  6.02,  5.33,  5.76,  5.09,\n",
       "        5.61,  5.68,  5.35,  5.36,  5.02,  5.29,  5.35,  5.08,  5.09,\n",
       "        5.82,  5.91,  5.27,  6.52,  5.04,  5.06,  6.68,  5.77,  5.77,\n",
       "        5.13,  4.99,  5.25,  5.95,  5.28,  5.07,  5.18,  5.35,  6.36,\n",
       "        5.64,  6.26,  6.26,  5.06,  5.95,  6.46,  6.28,  5.82,  5.85,\n",
       "        5.98,  5.32,  6.45,  5.68,  5.75,  5.74,  6.71,  6.86,  5.57,\n",
       "        6.79,  5.02,  5.5 ,  5.13,  6.51,  5.03,  4.76,  5.67,  5.  ,\n",
       "        5.63,  5.99,  5.79,  5.51,  6.06,  5.43,  5.12,  5.29,  5.93,\n",
       "        5.06,  4.96,  5.87,  5.87,  5.18,  5.7 ,  6.08,  5.35,  5.29,\n",
       "        5.39,  6.07,  5.45,  5.35,  5.85,  6.1 ,  5.18,  5.27,  5.02,\n",
       "        6.34,  5.01,  5.17,  6.73,  5.41,  5.15,  5.08,  5.62,  6.06,\n",
       "        5.29,  5.37,  5.07,  6.49,  5.72,  5.07,  5.65,  5.17,  5.03,\n",
       "        5.03,  5.2 ,  5.93,  5.36,  5.86,  5.73,  5.13,  5.51,  5.21,\n",
       "        5.18,  5.8 ,  5.06,  5.94,  5.21,  5.34,  5.56,  5.11,  5.97,\n",
       "        5.12,  5.67,  5.09,  5.52,  5.44,  5.08,  5.43,  5.63,  5.05,\n",
       "        5.96,  5.57,  5.06,  5.04,  5.16,  6.16,  5.14,  5.55,  5.25,\n",
       "        4.81,  5.49,  6.5 ,  5.83,  5.87,  5.45,  5.14,  5.34,  5.1 ,\n",
       "        6.23,  4.82,  6.24,  5.08,  5.32,  5.28,  6.74,  5.97,  5.2 ,\n",
       "        5.22,  5.41,  5.79,  5.77,  5.91,  5.98,  6.26,  5.8 ,  5.97,\n",
       "        5.29,  5.26,  5.67,  5.22,  5.18,  6.25,  6.16,  5.52,  5.84,\n",
       "        5.88,  5.52,  6.12,  5.32,  5.92,  5.35,  5.5 ,  6.13,  5.62,\n",
       "        4.9 ,  4.66,  6.69,  6.5 ,  6.2 ,  5.3 ,  5.42,  5.47,  5.52,\n",
       "        6.38,  6.  ,  5.2 ,  5.03,  5.18,  5.27,  6.28,  5.18,  5.1 ,\n",
       "        5.22,  5.18,  5.85,  6.39,  5.72,  5.42,  5.67,  6.52,  5.53,\n",
       "        6.01,  5.26,  5.12,  5.83,  5.76,  5.81,  5.59,  5.4 ,  5.13,\n",
       "        5.73,  5.46,  6.7 ,  6.14,  5.79,  5.02,  5.95,  6.47,  5.93,\n",
       "        5.42,  5.6 ,  5.34,  5.4 ,  5.86,  6.88,  5.4 ,  6.34,  5.83,\n",
       "        5.38,  5.37,  5.6 ,  5.18,  5.24,  6.3 ,  5.9 ,  6.  ,  6.15,\n",
       "        5.89,  5.37,  5.63,  5.54,  6.11,  5.58,  6.9 ,  6.69,  5.84,\n",
       "        6.33,  5.06,  5.28,  5.93,  5.36,  5.22,  6.09,  6.54,  6.51,\n",
       "        5.31,  5.54,  5.66,  6.14,  5.51])"
      ]
     },
     "execution_count": 14,
     "metadata": {},
     "output_type": "execute_result"
    }
   ],
   "source": [
    "#Save model for future use\n",
    "joblib.dump(clf, 'rf_regressor.pkl')\n",
    "\n",
    "clf2 = joblib.load('rf_regressor.pkl')\n",
    " \n",
    "# Predict data set using loaded model\n",
    "clf2.predict(X_test)"
   ]
  }
 ],
 "metadata": {
  "kernelspec": {
   "display_name": "py36x64",
   "language": "python",
   "name": "py36x64"
  },
  "language_info": {
   "codemirror_mode": {
    "name": "ipython",
    "version": 3
   },
   "file_extension": ".py",
   "mimetype": "text/x-python",
   "name": "python",
   "nbconvert_exporter": "python",
   "pygments_lexer": "ipython3",
   "version": "3.6.2"
  }
 },
 "nbformat": 4,
 "nbformat_minor": 2
}
